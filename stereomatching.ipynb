{
 "cells": [
  {
   "cell_type": "code",
   "execution_count": 1,
   "metadata": {},
   "outputs": [],
   "source": [
    "import cv2\n",
    "import numpy as np"
   ]
  },
  {
   "cell_type": "code",
   "execution_count": 2,
   "metadata": {},
   "outputs": [],
   "source": [
    "def distance(x,y):\n",
    "    return abs(x-y)"
   ]
  },
  {
   "cell_type": "code",
   "execution_count": 42,
   "metadata": {},
   "outputs": [],
   "source": [
    "def pixel_wise_matching_l1(disparity_range, save_result = True):\n",
    "    \n",
    "    #Read left, right images then convert to grayscale\n",
    "    left = cv2.imread(\"D:/Users/User/Downloads/img/left.png\",0)\n",
    "    right= cv2.imread(\"D:/Users/User/Downloads/img/right.png\",0)\n",
    "    \n",
    "    left = left.astype(np.float32)\n",
    "    right = right.astype(np.float32)\n",
    "\n",
    "    height, width = left.shape[:2]\n",
    "\n",
    "    #Create blank disparity map\n",
    "    depth = np.zeros((height,width),np.uint8)\n",
    "    scale = 16\n",
    "    max_value = 255\n",
    "\n",
    "    for y in range(height):\n",
    "        for x in range(width):\n",
    "            \n",
    "            disparity = 0\n",
    "            cost_min = max_value\n",
    "\n",
    "            for j in range(disparity_range):\n",
    "                if (x-j)<0:\n",
    "                    cost = max_value\n",
    "                else:\n",
    "                    cost = distance(int(left[y,x]), int(right[y,x-j]))\n",
    "                \n",
    "                if cost<cost_min:\n",
    "                    cost_min = cost\n",
    "                    disparity = j\n",
    "                    \n",
    "            depth[y,x] = disparity*scale\n",
    "\n",
    "    if save_result == True:\n",
    "        print('Saving result...')\n",
    "        #Save results\n",
    "        cv2.imwrite(f'pixel_wise_l1.png',depth)\n",
    "        cv2.imwrite(f'pixel_wise_l1_color.png',cv2.applyColorMap(depth,cv2.COLORMAP_JET))\n",
    "\n",
    "    print('Done.')\n",
    "\n",
    "    return depth"
   ]
  },
  {
   "cell_type": "code",
   "execution_count": 43,
   "metadata": {},
   "outputs": [
    {
     "name": "stdout",
     "output_type": "stream",
     "text": [
      "Saving result...\n",
      "Done.\n"
     ]
    }
   ],
   "source": [
    "\n",
    "pixel_wise_result_l1 = pixel_wise_matching_l1(\n",
    "    disparity_range = 16\n",
    ")"
   ]
  },
  {
   "cell_type": "code",
   "execution_count": 45,
   "metadata": {},
   "outputs": [],
   "source": [
    "def pixel_wise_matching_l2(disparity_range, save_result = True):\n",
    "    \n",
    "    #Read left, right images then convert to grayscale\n",
    "    left = cv2.imread(\"D:/Users/User/Downloads/img/left.png\",0)\n",
    "    right= cv2.imread(\"D:/Users/User/Downloads/img/right.png\",0)\n",
    "    \n",
    "    left = left.astype(np.float32)\n",
    "    right = right.astype(np.float32)\n",
    "\n",
    "    height, width = left.shape[:2]\n",
    "\n",
    "    #Create blank disparity map\n",
    "    depth = np.zeros((height,width),np.uint8)\n",
    "    scale = 16\n",
    "    max_value = 255*255\n",
    "\n",
    "    for y in range(height):\n",
    "        for x in range(width):\n",
    "            \n",
    "            disparity = 0\n",
    "            cost_min = max_value\n",
    "\n",
    "            for j in range(disparity_range):\n",
    "                if (x-j)<0:\n",
    "                    cost = max_value\n",
    "                else:\n",
    "                    cost = distance(int(left[y,x]), int(right[y,x-j]))\n",
    "                \n",
    "                if cost<cost_min:\n",
    "                    cost_min = cost\n",
    "                    disparity = j\n",
    "\n",
    "            depth[y,x] = disparity*scale\n",
    "    \n",
    "\n",
    "    if save_result == True:\n",
    "        print('Saving result...')\n",
    "        #Save results\n",
    "        cv2.imwrite(f'pixel_wise_l2.png',depth)\n",
    "        cv2.imwrite(f'pixel_wise_l2_color.png',cv2.applyColorMap(depth,cv2.COLORMAP_JET))\n",
    "\n",
    "    print('Done.')\n",
    "\n",
    "    return depth"
   ]
  },
  {
   "cell_type": "code",
   "execution_count": 46,
   "metadata": {},
   "outputs": [
    {
     "name": "stdout",
     "output_type": "stream",
     "text": [
      "Saving result...\n",
      "Done.\n"
     ]
    }
   ],
   "source": [
    "pixel_wise_result_l2 = pixel_wise_matching_l2(\n",
    "    disparity_range = 16)"
   ]
  },
  {
   "cell_type": "code",
   "execution_count": 52,
   "metadata": {},
   "outputs": [],
   "source": [
    "def window_base_matching_l1(disparity_range,kernel_size = 3 ,save_result = True):\n",
    "    \n",
    "    #Read left, right images then convert to grayscale\n",
    "    left = cv2.imread(\"D:/Users/User/Downloads/img2/Aloe_left_1.png\",0)\n",
    "    right= cv2.imread(\"D:/Users/User/Downloads/img2/Aloe_right_1.png\",0)\n",
    "    \n",
    "    left = left.astype(np.float32)\n",
    "    right = right.astype(np.float32)\n",
    "\n",
    "    height, width = left.shape[:2]\n",
    "\n",
    "    #Create blank disparity map\n",
    "    depth = np.zeros((height,width),np.uint8)\n",
    "    kernel_half = int((kernel_size-1)/2)\n",
    "    scale = 3\n",
    "    max_value = 255\n",
    "\n",
    "    for y in range(kernel_half,height-kernel_half+1):\n",
    "        for x in range(kernel_half,width-kernel_half+1):\n",
    "            \n",
    "            disparity = 0\n",
    "            cost_min = 65534\n",
    "\n",
    "            for j in range(disparity_range):\n",
    "                total = 0\n",
    "                value = 0\n",
    "                \n",
    "                for v in range(-kernel_half,kernel_half):\n",
    "                    for u in range(-kernel_half,kernel_half):\n",
    "                        value = max_value\n",
    "                        if (x+u-j)>= 0:\n",
    "                            value = distance(int(left[y+v,x+u]),int(right[y+v,(x+u)-j]))\n",
    "                            total +=value\n",
    "                    \n",
    "                if total<cost_min:\n",
    "                    cost_min = total\n",
    "                    disparity = j\n",
    "\n",
    "            depth[y,x] = disparity*scale\n",
    "\n",
    "    if save_result == True:\n",
    "        print('Saving result...')\n",
    "        #Save results\n",
    "        cv2.imwrite(f'window_base_l1.png',depth)\n",
    "        cv2.imwrite(f'window_base_l1_color.png',cv2.applyColorMap(depth,cv2.COLORMAP_JET))\n",
    "\n",
    "    print('Done.')\n",
    "\n",
    "    return depth"
   ]
  },
  {
   "cell_type": "code",
   "execution_count": 53,
   "metadata": {},
   "outputs": [
    {
     "name": "stdout",
     "output_type": "stream",
     "text": [
      "Saving result...\n",
      "Done.\n"
     ]
    }
   ],
   "source": [
    "window_base_result_l1 = window_base_matching_l1(disparity_range=64)"
   ]
  },
  {
   "cell_type": "code",
   "execution_count": 54,
   "metadata": {},
   "outputs": [],
   "source": [
    "def window_base_matching_l2(disparity_range,kernel_size = 3 ,save_result = True):\n",
    "    \n",
    "    #Read left, right images then convert to grayscale\n",
    "    left = cv2.imread(\"D:/Users/User/Downloads/img2/Aloe_left_1.png\",0)\n",
    "    right= cv2.imread(\"D:/Users/User/Downloads/img2/Aloe_right_1.png\",0)\n",
    "    \n",
    "    left = left.astype(np.float32)\n",
    "    right = right.astype(np.float32)\n",
    "\n",
    "    height, width = left.shape[:2]\n",
    "\n",
    "    #Create blank disparity map\n",
    "    depth = np.zeros((height,width),np.uint8)\n",
    "    kernel_half = int((kernel_size-1)/2)\n",
    "    scale = 3\n",
    "    max_value = 255*255\n",
    "\n",
    "    for y in range(kernel_half,height-kernel_half+1):\n",
    "        for x in range(kernel_half,width-kernel_half+1):\n",
    "            \n",
    "            disparity = 0\n",
    "            cost_min = 65534\n",
    "\n",
    "            for j in range(disparity_range):\n",
    "                total = 0\n",
    "                value = 0\n",
    "                \n",
    "                for v in range(-kernel_half,kernel_half):\n",
    "                    for u in range(-kernel_half,kernel_half):\n",
    "                        value = max_value\n",
    "                        if (x+u-j)>= 0:\n",
    "                            value = distance(int(left[y+v,x+u]),int(right[y+v,(x+u)-j]))\n",
    "                            total +=value\n",
    "                    \n",
    "                if total<cost_min:\n",
    "                    cost_min = total\n",
    "                    disparity = j\n",
    "\n",
    "            depth[y,x] = disparity*scale\n",
    "\n",
    "    if save_result == True:\n",
    "        print('Saving result...')\n",
    "        #Save results\n",
    "        cv2.imwrite(f'window_base_l2.png',depth)\n",
    "        cv2.imwrite(f'window_base_l2_color.png',cv2.applyColorMap(depth,cv2.COLORMAP_JET))\n",
    "\n",
    "    print('Done.')\n",
    "\n",
    "    return depth"
   ]
  },
  {
   "cell_type": "code",
   "execution_count": 55,
   "metadata": {},
   "outputs": [
    {
     "name": "stdout",
     "output_type": "stream",
     "text": [
      "Saving result...\n",
      "Done.\n"
     ]
    }
   ],
   "source": [
    "window_base_result_l2 = window_base_matching_l2(disparity_range=64)"
   ]
  },
  {
   "cell_type": "code",
   "execution_count": 58,
   "metadata": {},
   "outputs": [],
   "source": [
    "def window_base_matching_l3(disparity_range,kernel_size = 5 ,save_result = True):\n",
    "    \n",
    "    #Read left, right images then convert to grayscale\n",
    "    left = cv2.imread(\"D:/Users/User/Downloads/img2/Aloe_left_1.png\",0)\n",
    "    right= cv2.imread(\"D:/Users/User/Downloads/img2/Aloe_right_1.png\",0)\n",
    "    \n",
    "    left = left.astype(np.float32)\n",
    "    right = right.astype(np.float32)\n",
    "\n",
    "    height, width = left.shape[:2]\n",
    "\n",
    "    #Create blank disparity map\n",
    "    depth = np.zeros((height,width),np.uint8)\n",
    "    kernel_half = int((kernel_size-1)/2)\n",
    "    scale = 3\n",
    "    max_value = 255*255*9\n",
    "\n",
    "    for y in range(kernel_half,height-kernel_half+1):\n",
    "        for x in range(kernel_half,width-kernel_half+1):\n",
    "            \n",
    "            disparity = 0\n",
    "            cost_min = 65534\n",
    "\n",
    "            for j in range(disparity_range):\n",
    "                total = 0\n",
    "                value = 0\n",
    "                \n",
    "                for v in range(-kernel_half,kernel_half):\n",
    "                    for u in range(-kernel_half,kernel_half):\n",
    "                        value = max_value\n",
    "                        if (x+u-j)>= 0:\n",
    "                            value = distance(int(left[y+v,x+u]),int(right[y+v,(x+u)-j]))\n",
    "                            total +=value\n",
    "                    \n",
    "                if total<cost_min:\n",
    "                    cost_min = total\n",
    "                    disparity = j\n",
    "\n",
    "            depth[y,x] = disparity*scale\n",
    "\n",
    "    if save_result == True:\n",
    "        print('Saving result...')\n",
    "        #Save results\n",
    "        cv2.imwrite(f'window_base_l3.png',depth)\n",
    "        cv2.imwrite(f'window_base_l3_color.png',cv2.applyColorMap(depth,cv2.COLORMAP_JET))\n",
    "\n",
    "    print('Done.')\n",
    "\n",
    "    return depth"
   ]
  },
  {
   "cell_type": "code",
   "execution_count": 59,
   "metadata": {},
   "outputs": [
    {
     "name": "stdout",
     "output_type": "stream",
     "text": [
      "Saving result...\n",
      "Done.\n"
     ]
    }
   ],
   "source": [
    "window_base_result_l3 = window_base_matching_l3(disparity_range=64)"
   ]
  },
  {
   "cell_type": "code",
   "execution_count": 69,
   "metadata": {},
   "outputs": [],
   "source": [
    "def consine_similarity(x,y):\n",
    "    numerator = np.dot(x,y)\n",
    "    denominator = np.linalg.norm(x)*np.linalg.norm(y)\n",
    "    return numerator/denominator"
   ]
  },
  {
   "cell_type": "code",
   "execution_count": 72,
   "metadata": {},
   "outputs": [],
   "source": [
    "def window_based_matching(disparity_range,kernel_size = 5,save_result = True):\n",
    "    #Read left, right images then convert to grayscale\n",
    "    left = cv2.imread(\"D:/Users/User/Downloads/img2/Aloe_left_1.png\",0)\n",
    "    right = cv2.imread(\"D:/Users/User/Downloads/img2/Aloe_right_1.png\",0)\n",
    "\n",
    "    left = left.astype(np.float32)\n",
    "    right = right.astype(np.float32)\n",
    "\n",
    "    height,width = left.shape[:2]\n",
    "\n",
    "    #create blank disparity map\n",
    "\n",
    "    depth = np.zeros((height,width),np.uint8)\n",
    "    kernel_half = int((kernel_size-1)/2)\n",
    "    scale = 3\n",
    "\n",
    "    for y in range(kernel_half,height-kernel_half):\n",
    "        for x in range(kernel_half,width-kernel_half):\n",
    "\n",
    "            disparity = 0\n",
    "            cost_optimal = -1\n",
    "\n",
    "            for j in range(disparity_range):\n",
    "                d = x-j\n",
    "                cost = -1\n",
    "                if (d-kernel_half)>0:\n",
    "                    wp = left[(y-kernel_half):(y+kernel_half)+1,(x-kernel_half):(x+kernel_half)+1]\n",
    "                    wqd = right[(y-kernel_half):(y+kernel_half)+1,(d-kernel_half):(d+kernel_half)+1]\n",
    "                    wp_flattened = wp.flatten()\n",
    "                    wqd_flattened = wqd.flatten()\n",
    "                    cost = consine_similarity(wp_flattened,wqd_flattened)\n",
    "\n",
    "                    if cost > cost_optimal:\n",
    "                        cost_optimal = cost\n",
    "                        disparity = j\n",
    "                    \n",
    "            depth[y,x] = disparity*scale\n",
    "    if save_result == True:\n",
    "        print('Saving result...')\n",
    "        cv2.imwrite('window_based_cosine_similarity.png',depth)\n",
    "        cv2.imwrite('window_based_cosine_similarity_color.png',cv2.applyColorMap(depth,cv2.COLORMAP_JET))\n",
    "        print('Done.')\n",
    "\n",
    "    return depth"
   ]
  },
  {
   "cell_type": "code",
   "execution_count": 73,
   "metadata": {},
   "outputs": [
    {
     "name": "stdout",
     "output_type": "stream",
     "text": [
      "Saving result...\n",
      "Done.\n"
     ]
    }
   ],
   "source": [
    "window_base_matching_result = window_based_matching(disparity_range = 64)"
   ]
  }
 ],
 "metadata": {
  "kernelspec": {
   "display_name": "Python 3",
   "language": "python",
   "name": "python3"
  },
  "language_info": {
   "codemirror_mode": {
    "name": "ipython",
    "version": 3
   },
   "file_extension": ".py",
   "mimetype": "text/x-python",
   "name": "python",
   "nbconvert_exporter": "python",
   "pygments_lexer": "ipython3",
   "version": "3.9.13"
  },
  "orig_nbformat": 4
 },
 "nbformat": 4,
 "nbformat_minor": 2
}
